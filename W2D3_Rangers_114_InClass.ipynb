{
 "cells": [
  {
   "cell_type": "markdown",
   "metadata": {},
   "source": [
    "# Dictionaries & Sets"
   ]
  },
  {
   "cell_type": "markdown",
   "metadata": {},
   "source": [
    "## Tasks Today:\n",
    "\n",
    "1) Dictionary <br>\n",
    " &nbsp;&nbsp;&nbsp;&nbsp; a) Declaring (key, value) <br>\n",
    " &nbsp;&nbsp;&nbsp;&nbsp; b) Accessing Values <br>\n",
    " &nbsp;&nbsp;&nbsp;&nbsp; ------ Exercise #1 - Print the eye color of each person in a double nested dict <br>\n",
    " &nbsp;&nbsp;&nbsp;&nbsp; c) Adding New Pairs <br>\n",
    " &nbsp;&nbsp;&nbsp;&nbsp; d) Modifying Values <br>\n",
    " &nbsp;&nbsp;&nbsp;&nbsp; e) Removing Key, Value Pairs <br>\n",
    " &nbsp;&nbsp;&nbsp;&nbsp; f) Looping a Dictionary <br>\n",
    " &nbsp;&nbsp;&nbsp;&nbsp; g) Looping Only Keys <br>\n",
    " &nbsp;&nbsp;&nbsp;&nbsp; h) Looping Only Values <br>\n",
    " &nbsp;&nbsp;&nbsp;&nbsp; ------ Exercise #2 - Create a program\n",
    " that Prints All Key Value Pairs within a print .format()  <br>\n",
    " &nbsp;&nbsp;&nbsp;&nbsp; i) sorted() <br>\n",
    " &nbsp;&nbsp;&nbsp;&nbsp; j) Lists with Dictionaries <br>\n",
    " &nbsp;&nbsp;&nbsp;&nbsp; k) Dictionaries with Lists <br>\n",
    " &nbsp;&nbsp;&nbsp;&nbsp; l) Dictionaries with Dictionaries <br>\n",
    " &nbsp;&nbsp;&nbsp;&nbsp; ------ Exercise #3 - Write a Function that asks someone's name and address, and then stores that into a dictionary, which prints all names and addresses after they're done putting information in...  <br>\n",
    "2) Dictionaries vs. Lists (over time)<br>\n",
    "3) Set <br>\n",
    " &nbsp;&nbsp;&nbsp;&nbsp; a) Declaring <br>\n",
    " &nbsp;&nbsp;&nbsp;&nbsp; b) .add() <br>\n",
    " &nbsp;&nbsp;&nbsp;&nbsp; c) .remove() <br>\n",
    " &nbsp;&nbsp;&nbsp;&nbsp; d) .union() <br>\n",
    " &nbsp;&nbsp;&nbsp;&nbsp; e) .intersection() <br>\n",
    " &nbsp;&nbsp;&nbsp;&nbsp; f) .difference() <br>\n",
    " &nbsp;&nbsp;&nbsp;&nbsp; g) Frozen Set <br>\n",
    "4) Modules <br>\n",
    " &nbsp;&nbsp;&nbsp;&nbsp; a) Importing Entire Modules <br>\n",
    " &nbsp;&nbsp;&nbsp;&nbsp; b) Importing Methods Only <br>\n",
    " &nbsp;&nbsp;&nbsp;&nbsp; c) Using the 'as' Keyword <br>\n",
    " &nbsp;&nbsp;&nbsp;&nbsp; d) Creating a Module <br>\n",
    "5) Exercises <br>\n",
    " &nbsp;&nbsp;&nbsp;&nbsp; a) Build a Shopping Cart <br>\n",
    " &nbsp;&nbsp;&nbsp;&nbsp; b) Create Your Own Module <br>"
   ]
  },
  {
   "cell_type": "markdown",
   "metadata": {},
   "source": [
    "## Dictionary <br>\n",
    "<p>A collection of data with 'key:value' pairs. Dictionaries are ordered as of Python 3.6</p>"
   ]
  },
  {
   "cell_type": "markdown",
   "metadata": {},
   "source": [
    "##### Declaring (key, value)"
   ]
  },
  {
   "cell_type": "code",
   "execution_count": null,
   "metadata": {},
   "outputs": [],
   "source": [
    "# keys always need to be unique\n",
    "# can you use integers (numbers) or strings as keys\n",
    "\n",
    "d_1 = {} #<---- empty dictionary\n",
    "\n",
    "#or\n",
    "\n",
    "d_2 = dict()\n",
    "\n",
    "# or\n",
    "# non-empty dictionary\n",
    "d_3 = {\n",
    "    \"Tom\": \"255 Main Street\",\n",
    "    \"Jerry\": \"256 Main Street\",\n",
    "    0: \"This is zero\"\n",
    "}"
   ]
  },
  {
   "cell_type": "markdown",
   "metadata": {},
   "source": [
    "##### Accessing Values"
   ]
  },
  {
   "cell_type": "code",
   "execution_count": null,
   "metadata": {
    "scrolled": true
   },
   "outputs": [],
   "source": [
    "#dict[key] this will give back the value\n",
    "print(d_3[\"Tom\"])\n",
    "print(d_3[\"Jerry\"])\n",
    "print(d_3[0])"
   ]
  },
  {
   "cell_type": "code",
   "execution_count": null,
   "metadata": {},
   "outputs": [],
   "source": [
    "# example of non-unique keys\n",
    "d_4 = {\n",
    "    \"name\": \"Mega Man\",\n",
    "    \"name\": \"dragon statue\",\n",
    "    \"name\": \"cheetor\"\n",
    "}\n",
    "\n",
    "print(d_4[\"name\"])"
   ]
  },
  {
   "cell_type": "markdown",
   "metadata": {},
   "source": [
    "## In-Class Exercise #1 - Print a formatted statement from the dictionary below <br>\n",
    "<p>The output should be '2018 Chevrolet Silverado'</p>"
   ]
  },
  {
   "cell_type": "code",
   "execution_count": null,
   "metadata": {},
   "outputs": [],
   "source": [
    "# use the dict below\n",
    "truck = {\n",
    "    \"year\": 2018,\n",
    "    'make': 'Chevrolet',\n",
    "    'model': 'Silverado'\n",
    "}\n",
    "\n",
    "print(truck[\"year\"],truck[\"make\"],truck[\"model\"])"
   ]
  },
  {
   "cell_type": "code",
   "execution_count": null,
   "metadata": {},
   "outputs": [],
   "source": [
    "#"
   ]
  },
  {
   "cell_type": "code",
   "execution_count": null,
   "metadata": {},
   "outputs": [],
   "source": []
  },
  {
   "cell_type": "markdown",
   "metadata": {},
   "source": [
    "##### Adding New Pairs"
   ]
  },
  {
   "cell_type": "code",
   "execution_count": null,
   "metadata": {},
   "outputs": [],
   "source": [
    "#dict[key] = value\n",
    "\n",
    "d_3 = {\n",
    "    \"Tom\": \"255 Main Street\",\n",
    "    \"Jerry\": \"256 Main Street\",\n",
    "    0: \"This is zero\"\n",
    "}\n",
    "\n",
    "d_3[\"Spike\"] = \"257 Main Street\"\n",
    "d_3[\"Tike\"] = \"257 Main Street\"\n",
    "\n",
    "print(d_3)\n",
    "\n",
    "d_4 = {\n",
    "    \"name\": \"Mega Man\",\n",
    "    \"name\": \"dragon statue\",\n",
    "    \"name\": \"cheetor\"\n",
    "}\n",
    "\n",
    "d_4 = {}\n",
    "print(d_4)\n",
    "\n",
    "d_4['beverage']  = 'water'\n",
    "print(d_4)"
   ]
  },
  {
   "cell_type": "markdown",
   "metadata": {},
   "source": [
    "##### Modifying Values"
   ]
  },
  {
   "cell_type": "code",
   "execution_count": 6,
   "metadata": {},
   "outputs": [
    {
     "name": "stdout",
     "output_type": "stream",
     "text": [
      "{'name': 'cheetor'}\n",
      "\n",
      "\n",
      "{'name': 'cheetor', 'beverage': 'coffee'}\n",
      "{'name': 'cheetor', 'beverage': 'coffee', 'beverage2': 'belle vie'}\n"
     ]
    }
   ],
   "source": [
    "#dict[key] = \"new value\" if key already exists in dictionary\n",
    "d_4 = {\n",
    "    \"name\": \"Mega Man\",\n",
    "    \"name\": \"dragon statue\",\n",
    "    \"name\": \"cheetor\"\n",
    "}\n",
    "\n",
    "print(d_4)\n",
    "d_4['beverage'] = 'coffee'\n",
    "print('\\n')\n",
    "print(d_4)\n",
    "\n",
    "drink = \"belle vie\"\n",
    "\n",
    "if 'beverage2' not in d_4:\n",
    "    d_4['beverage2'] = drink\n",
    "else:\n",
    "    d_4['beverage2'] = 'topo chico'\n",
    "\n",
    "print(d_4)"
   ]
  },
  {
   "cell_type": "code",
   "execution_count": null,
   "metadata": {},
   "outputs": [],
   "source": [
    "d_3['Jerry'] = '255 Main Street'\n",
    "print(d_3)"
   ]
  },
  {
   "cell_type": "markdown",
   "metadata": {},
   "source": [
    "##### Removing Key, Value Pairs"
   ]
  },
  {
   "cell_type": "code",
   "execution_count": 5,
   "metadata": {},
   "outputs": [
    {
     "name": "stdout",
     "output_type": "stream",
     "text": [
      "{'Tom': '255 Main Street', 'Jerry': '256 Main Street', 0: 'This is zero'}\n",
      "{'Tom': '255 Main Street', 'Jerry': '256 Main Street'}\n"
     ]
    }
   ],
   "source": [
    "# del dict[key]\n",
    "# del(my_list[0]) or del dict[key] or del my_list[0]\n",
    "d_3 = {\n",
    "    \"Tom\": \"255 Main Street\",\n",
    "    \"Jerry\": \"256 Main Street\",\n",
    "    0: \"This is zero\"\n",
    "}\n",
    "\n",
    "print(d_3)\n",
    "\n",
    "del d_3[0]\n",
    "\n",
    "print(d_3)"
   ]
  },
  {
   "cell_type": "markdown",
   "metadata": {},
   "source": [
    "##### Looping a Dictionary"
   ]
  },
  {
   "cell_type": "code",
   "execution_count": null,
   "metadata": {
    "scrolled": true
   },
   "outputs": [],
   "source": [
    "#dict.items()\n",
    "# del d_3[\"Jerry\"]\n",
    "# d_3\"Jerry\"] = \"255 Main Street\"\n",
    "\n",
    "d_3[\"Jerry\"] = \"255 Main Street\"\n",
    "\n",
    "for k, v in d_3.items():\n",
    "    print(f\"{k} lives at this address: {v}\")"
   ]
  },
  {
   "cell_type": "code",
   "execution_count": 37,
   "metadata": {},
   "outputs": [
    {
     "name": "stdout",
     "output_type": "stream",
     "text": [
      "0 Desierr\n",
      "1 Chuck\n",
      "2 Hyun-Tae\n",
      "3 Alex\n",
      "4 Abdel\n",
      "{0: 'Desierr', 1: 'Chuck', 2: 'Hyun-Tae', 3: 'Alex', 4: 'Abdel'}\n",
      "{0: 'Desierr', 1: 'Chuck', 2: 'Hyun-Tae', 3: 'Alex', 4: 'Abdel'}\n"
     ]
    }
   ],
   "source": [
    "# enumerating a list and adding it to a dictionary\n",
    "my_list = [\"Desierr\", \"Chuck\", \"Hyun-Tae\", \"Alex\", \"Abdel\"]\n",
    "names_dict = {}\n",
    "\n",
    "for i, name in enumerate (my_list):\n",
    "    names_dict[i] = name\n",
    "    \n",
    "for k, v in names_dict.items():\n",
    "    print(k,v)\n",
    "print(names_dict)\n",
    "\n",
    "names_dict2 = {k:v for k, v in enumerate(my_list)}\n",
    "\n",
    "print(names_dict2)"
   ]
  },
  {
   "cell_type": "markdown",
   "metadata": {},
   "source": [
    "##### Looping Only Keys"
   ]
  },
  {
   "cell_type": "code",
   "execution_count": null,
   "metadata": {},
   "outputs": [],
   "source": [
    "#dict.keys()\n",
    "\n",
    "for key in d_3:\n",
    "    print(key)\n",
    "\n",
    "print('\\n')\n",
    "for name in d_3.keys():\n",
    "    print(name)"
   ]
  },
  {
   "cell_type": "markdown",
   "metadata": {},
   "source": [
    "##### Looping Only Values"
   ]
  },
  {
   "cell_type": "code",
   "execution_count": 25,
   "metadata": {
    "scrolled": true
   },
   "outputs": [
    {
     "ename": "KeyError",
     "evalue": "'199 Main Street'",
     "output_type": "error",
     "traceback": [
      "\u001b[1;31m---------------------------------------------------------------------------\u001b[0m",
      "\u001b[1;31mKeyError\u001b[0m                                  Traceback (most recent call last)",
      "Cell \u001b[1;32mIn[25], line 6\u001b[0m\n\u001b[0;32m      2\u001b[0m d_3 \u001b[38;5;241m=\u001b[39m {\u001b[38;5;124m'\u001b[39m\u001b[38;5;124mTom\u001b[39m\u001b[38;5;124m'\u001b[39m: {\u001b[38;5;124m'\u001b[39m\u001b[38;5;124m254 Main Street\u001b[39m\u001b[38;5;124m'\u001b[39m, \u001b[38;5;124m'\u001b[39m\u001b[38;5;124m251 Main Street\u001b[39m\u001b[38;5;124m'\u001b[39m, \u001b[38;5;124m'\u001b[39m\u001b[38;5;124m199 Main Street\u001b[39m\u001b[38;5;124m'\u001b[39m}, \u001b[38;5;124m'\u001b[39m\u001b[38;5;124mSpike\u001b[39m\u001b[38;5;124m'\u001b[39m: \u001b[38;5;124m'\u001b[39m\u001b[38;5;124m257 Main Street\u001b[39m\u001b[38;5;124m'\u001b[39m, \u001b[38;5;124m'\u001b[39m\u001b[38;5;124mTike\u001b[39m\u001b[38;5;124m'\u001b[39m: \u001b[38;5;124m'\u001b[39m\u001b[38;5;124m258 Main Street\u001b[39m\u001b[38;5;124m'\u001b[39m, \u001b[38;5;124m'\u001b[39m\u001b[38;5;124mJerry\u001b[39m\u001b[38;5;124m'\u001b[39m: \u001b[38;5;124m'\u001b[39m\u001b[38;5;124m255 Main STreet\u001b[39m\u001b[38;5;124m'\u001b[39m}\n\u001b[0;32m      4\u001b[0m \u001b[38;5;66;03m# for address in d_3.values():\u001b[39;00m\n\u001b[0;32m      5\u001b[0m \u001b[38;5;66;03m#     print(address)\u001b[39;00m\n\u001b[1;32m----> 6\u001b[0m \u001b[38;5;28;01mdel\u001b[39;00m d_3[\u001b[38;5;124m\"\u001b[39m\u001b[38;5;124m199 Main Street\u001b[39m\u001b[38;5;124m\"\u001b[39m]\n\u001b[0;32m      7\u001b[0m \u001b[38;5;28mprint\u001b[39m(d_3)\n\u001b[0;32m      9\u001b[0m \u001b[38;5;66;03m# for address in d_3.values():\u001b[39;00m\n\u001b[0;32m     10\u001b[0m \u001b[38;5;66;03m#     if address == \"254 Main Street\":\u001b[39;00m\n\u001b[0;32m     11\u001b[0m \u001b[38;5;66;03m#         print(\"Tom Lives here\")\u001b[39;00m\n\u001b[1;32m   (...)\u001b[0m\n\u001b[0;32m     17\u001b[0m \u001b[38;5;66;03m#     else:\u001b[39;00m\n\u001b[0;32m     18\u001b[0m \u001b[38;5;66;03m#         print(address)\u001b[39;00m\n",
      "\u001b[1;31mKeyError\u001b[0m: '199 Main Street'"
     ]
    }
   ],
   "source": [
    "#dict.values()\n",
    "d_3 = {'Tom': {'254 Main Street', '251 Main Street', '199 Main Street'}, 'Spike': '257 Main Street', 'Tike': '258 Main Street', 'Jerry': '255 Main STreet'}\n",
    "\n",
    "# for address in d_3.values():\n",
    "#     print(address)\n",
    "del d_3[\"199 Main Street\"]\n",
    "print(d_3)\n",
    "    \n",
    "# for address in d_3.values():\n",
    "#     if address == \"254 Main Street\":\n",
    "#         print(\"Tom Lives here\")\n",
    "#     elif address == \"257 Main Street\":\n",
    "#         d_3[\"Spike\"] += ' 60618'\n",
    "#         #\"257 Main Street\" + \" 60618\"\n",
    "#         #address = \"257 Main Street\" + \" 60618\"\n",
    "#         print(d_3[\"Spike\"])\n",
    "#     else:\n",
    "#         print(address)"
   ]
  },
  {
   "cell_type": "markdown",
   "metadata": {},
   "source": [
    "## In-Class Exercise #2 - Create a Function that Prints All Key Value Pairs within a formatted string  <br>\n",
    "<p><b>Output should be:</b><br>\n",
    "Max has blue eyes<br>\n",
    "Lilly has brown eyes<br>\n",
    "Barney has blue eyes<br>\n",
    "etc.\n",
    "</p>"
   ]
  },
  {
   "cell_type": "code",
   "execution_count": null,
   "metadata": {},
   "outputs": [],
   "source": [
    "people = {\n",
    "    'Max' : 'blue',\n",
    "    'Lilly' : 'brown',\n",
    "    'Barney' : 'green',\n",
    "    'Ted' : 'purple',\n",
    "    'Sasuke' : 'sharingan'    \n",
    "}\n",
    "# print(people)\n",
    "\n",
    "def print_sentence(dict1):\n",
    "    for k, v in dict1.items():\n",
    "        print(f\"{k} has {v} eyes.\")\n",
    "        \n",
    "\n",
    "print_sentence(people)\n"
   ]
  },
  {
   "cell_type": "code",
   "execution_count": null,
   "metadata": {},
   "outputs": [],
   "source": []
  },
  {
   "cell_type": "code",
   "execution_count": null,
   "metadata": {},
   "outputs": [],
   "source": []
  },
  {
   "cell_type": "code",
   "execution_count": null,
   "metadata": {},
   "outputs": [],
   "source": []
  },
  {
   "cell_type": "markdown",
   "metadata": {},
   "source": [
    "##### sorted()"
   ]
  },
  {
   "cell_type": "code",
   "execution_count": null,
   "metadata": {
    "scrolled": true
   },
   "outputs": [],
   "source": [
    "# if we wrap dictionary with sorted() it returns a list of tuples sorted by key\n",
    "people = {\n",
    "    'Max' : 'blue',\n",
    "    'Lilly' : 'brown',\n",
    "    'Barney' : 'green',\n",
    "    'Ted' : 'purple',\n",
    "    'Sasuke' : 'sharingan'\n",
    "}\n",
    "\n",
    "# print(\"Values\", sorted(people.values()))\n",
    "# print(\"Keys\", sorted(people.keys()))\n",
    "# print(\"Key, Value Pairs\", sorted(people.items()))\n",
    "\n",
    "sorted_items = sorted(people.items())\n",
    "print(sorted_items)\n",
    "\n",
    "print(sorted_items[0][1])\n",
    "print(people)\n",
    "\n",
    "new_list = [['Barney', 'green'], ('Lilly', 'brown'), ('Max', 'blue'), ('Sasuke', 'sharingan'), ('Ted', 'purple')]\n",
    "new_list[0][1] = \"red\"\n",
    "\n",
    "print(new_list)\n"
   ]
  },
  {
   "cell_type": "code",
   "execution_count": null,
   "metadata": {},
   "outputs": [],
   "source": [
    "my_dict = {'c': 3, 'a':1, 'b': 2}\n",
    "sorted_dict = dict(sorted(my_dict.items(), key=lambda item: item[1]))\n",
    "\n",
    "print(sorted_dict)"
   ]
  },
  {
   "cell_type": "markdown",
   "metadata": {},
   "source": [
    "##### List with Dictionaries"
   ]
  },
  {
   "cell_type": "code",
   "execution_count": null,
   "metadata": {},
   "outputs": [],
   "source": [
    "shinobi = [\"Shikamaru\", \"Garra\", \"OctoPops\", {\"leaf_village\": \"Naruto\", \"leaf_village2\": \"Kakashi\"}]\n",
    "\n",
    "print(shinobi[1])\n",
    "print(shinobi[3]['leaf_village'])\n",
    "print(shinobi[3])\n",
    "print(shinobi[-1])"
   ]
  },
  {
   "cell_type": "code",
   "execution_count": null,
   "metadata": {},
   "outputs": [],
   "source": [
    "names =[ \"Dave\", \"Sandy\", \"Tony\", {\"random_person1\": \"Barb\", \"random_person2\": \"Bart\"}, \"Tom\"]\n",
    "print(names)\n",
    "\n",
    "print(names[3][\"random_person1\"])\n",
    "\n",
    "random_people = names[3]\n",
    "print(random_people)\n",
    "print(random_people['random_person1'])"
   ]
  },
  {
   "cell_type": "markdown",
   "metadata": {},
   "source": [
    "##### Dictionaries with Lists"
   ]
  },
  {
   "cell_type": "code",
   "execution_count": null,
   "metadata": {},
   "outputs": [],
   "source": [
    "#be careful when using numbers as keys so that they're not confused with indexes\n",
    "random_data = {\n",
    "    \"list_1\": [54,67,90],\n",
    "    \"names\": [\"John\", \"Laura\", \"Bulbasaur\"],\n",
    "    1: [1,1,1,1]\n",
    "}\n",
    "\n",
    "print(random_data[1][1])\n",
    "print(random_data[\"list_1\"][2])"
   ]
  },
  {
   "cell_type": "code",
   "execution_count": 16,
   "metadata": {},
   "outputs": [
    {
     "name": "stdout",
     "output_type": "stream",
     "text": [
      "transform\n"
     ]
    }
   ],
   "source": [
    "ditto = {\n",
    "    'abilities': [{'name': 'transform'},{'name', 'another transform'}]\n",
    "}\n",
    "\n",
    "print(ditto['abilities'][0]['name'])"
   ]
  },
  {
   "cell_type": "markdown",
   "metadata": {},
   "source": [
    "##### Dictionaries with Dictionaries"
   ]
  },
  {
   "cell_type": "code",
   "execution_count": null,
   "metadata": {
    "scrolled": true
   },
   "outputs": [],
   "source": [
    "food_dict = {\n",
    "    \"Ryan\": {\n",
    "        \"Mexican\": [\"Tacos\", \"Tortas\", \"Burritos\"],\n",
    "        \"Desserts\": ['Pie', \"Brownies\", \"Chocolate Chip Cookies\"]\n",
    "    },\n",
    "    \"Alex\": {\n",
    "        \"Hispanic\": ['Pupusas', 'Tacos', 'Fajitas'],\n",
    "        \"Sweets\": ['Pastries', 'Ice Cream', 'Canollis'],\n",
    "        \"More Sweets\" : ['Cheesecake', 'Chantilly Cupcakes', 'Cobbler', 'Pie']\n",
    "    },\n",
    "     \"Ethan\": {\n",
    "        \"Rock\": ['KGLW', 'Uncle Spudd', 'Your moms house'], \n",
    "        'Rap': ['MF DOOM', 'Kendrick', 'Andrae 3000']\n",
    "    },\n",
    "    \"Enoch\": {\n",
    "        \"Japanese\":[\"Sushi\", \"Tempura\", \"Onigiri\"],\n",
    "        \"Desserts\":[\"Cheesecake\", \"Applie Pie\", \"Yuzu Creme Brulee\"]\n",
    "    },\n",
    "    \"Htae\": {\n",
    "        \"Ramen\": [\"Miso\", \"Shoyu\", \"Shin\"],\n",
    "        \"Drinks\": [\"Dr.Pepper\", \"Water\", \"Boba tea\"]\n",
    "    },\n",
    "    \"Dez\": {\n",
    "        \"Asian\":[\"Sushi\", \"Ramen\", \"Pho\", \"Curry\"],\n",
    "        \"Doughnt_shops\": [\"Sidecar\",\"Sk's\", \"Doughnuttery\"]\n",
    "    },\n",
    "    \"Dharti\": {\n",
    "        \"Indian\": [\"Paneer\",\"Rajma\",\"Naan\"],\n",
    "        \"Sweet\": [\"Jalabi\",\"Mohanthal\",\"icecream\"]\n",
    "    },\n",
    "      \"Lyle\": {\n",
    "        'nike': ['airmax', 'jordan', 'cortez'],\n",
    "        'adidas': ['stansmiths', 'promodel', 'nmd']\n",
    "    },\n",
    "    'Daniel' :{\n",
    "    'Afri':['garri', 'fufu', 'egusi'],\n",
    "    'easyfood':['rice', 'beans', 'eba']\n",
    "    },\n",
    "    \"Chuck\": {\n",
    "       \"American\" : ['Cheese_Burger', 'Fries', 'Coke'],\n",
    "       \"Desserts\" : ['Cheese_Cake', 'Milk_Shake', 'Cake'],\n",
    "    },\n",
    "    \"Ben\": {\n",
    "    \"Indian\": [\"Tika Masala\", \"Naan\", \"Chapati\", \"Chicken Curry\", \"Fish Curry\"],\n",
    "    \"Desserts\": [\"Cheesecake\", \"Empanadas\", \"Churros\", \"Ice Cream\", \"Mangonada\"],\n",
    "    },\n",
    "    'Ewa': {\n",
    "    'Italian': {\n",
    "        'Pizza': ['Margherita', 'Pepperoni', 'Capricciosa'],\n",
    "        'Pasta': ['Spaghetti Bolognese', 'Carbonara', 'Pesto'],\n",
    "        'Dessert': ['Tiramisu', 'Panna Cotta', 'Cannoli']\n",
    "    },\n",
    "    \n",
    "    'Mexican': {\n",
    "        'Tacos': ['Al Pastor', 'Carnitas', 'Barbacoa'],\n",
    "        'Burritos': ['Bean and Cheese', 'Carne Asada', 'Chicken'],\n",
    "        'Dessert': ['Churros', 'Flan', 'Sopapillas']\n",
    "    }\n",
    "    },\n",
    "     \"Salim\" : {\n",
    "        \"turkish\" :[\"lent soup , kebaba , Gyro \"],\n",
    "        \"Dessert \" :[\"Baklava, basbousa ,maamoul\"]\n",
    "    }\n",
    "    \n",
    "    \n",
    "}\n",
    "\n",
    "print(\"\\nHere are all our favorite foods!!!  YAY!!\")\n",
    "for name in food_dict.keys():\n",
    "    print(f\"\\n{name}'s favorite foods are: \\n\")\n",
    "    for food_type in food_dict[name].keys():\n",
    "        print(food_type)\n",
    "        print(\"\\n\")\n",
    "        for food in food_dict[name][food_type]:\n",
    "            print(food)\n",
    "\n"
   ]
  },
  {
   "cell_type": "code",
   "execution_count": null,
   "metadata": {},
   "outputs": [],
   "source": []
  },
  {
   "cell_type": "code",
   "execution_count": null,
   "metadata": {},
   "outputs": [],
   "source": []
  },
  {
   "cell_type": "code",
   "execution_count": null,
   "metadata": {},
   "outputs": [],
   "source": []
  },
  {
   "cell_type": "code",
   "execution_count": null,
   "metadata": {},
   "outputs": [],
   "source": []
  },
  {
   "cell_type": "markdown",
   "metadata": {},
   "source": [
    "## Dictionaries vs. Lists (over time) Example of RUNTIME\n",
    "### When inputting values in a Dictionary vs List"
   ]
  },
  {
   "cell_type": "code",
   "execution_count": null,
   "metadata": {},
   "outputs": [],
   "source": [
    "import time\n",
    "\n",
    "#generate dictionary\n",
    "d = {}\n",
    "for i in range(10000000):\n",
    "    d[i] = \"value \" + str(i)\n",
    "    \n",
    "# generate a list\n",
    "big_list = [x for x in range(10000000)]\n"
   ]
  },
  {
   "cell_type": "code",
   "execution_count": null,
   "metadata": {},
   "outputs": [],
   "source": [
    "#track time for the dictionary\n",
    "start_time = time.time()\n",
    "\n",
    "print(d[9999999])\n",
    "\n",
    "end_time = time.time() - start_time\n",
    "\n",
    "print(f\"elapsed time for dictionary: {end_time}\")\n",
    "\n",
    "#Tracking time for the list\n",
    "start_time =time.time()\n",
    "\n",
    "for i in range(len(big_list)):\n",
    "    if i == 9999999:\n",
    "        print(i)\n",
    "\n",
    "end_time = time.time() - start_time\n",
    "print(f\"Elapsed time for list: {end_time}\")"
   ]
  },
  {
   "cell_type": "markdown",
   "metadata": {},
   "source": [
    "## Exercise #3 - Write a Function that asks someone's name and address, and then stores that into a dictionary, and continues to do so until they choose to 'quit'. Once they quit, the program should print all names and addresses. <br>\n",
    "<p>\n",
    "<b>Proper steps:</b><br>\n",
    "step 1: write a function that takes in information and stores it in a dictionary<br>\n",
    "step 2: define an empty dictionary to work with<br>\n",
    "step 3: create our loop, which asks the user for information until they quit<br>\n",
    "step 4: ask for the information, and store it into variables<br>\n",
    "step 5: check if the user types quit<br>\n",
    "step 5a: print out all information<br>\n",
    "step 5b: break out of the loop<br>\n",
    "step 6: if they didn't quit, add the information to the dictionary<br>\n",
    "step 7: invoke the function by calling it\n",
    "</p>"
   ]
  },
  {
   "cell_type": "code",
   "execution_count": null,
   "metadata": {
    "scrolled": false
   },
   "outputs": [],
   "source": [
    "#step 2:\n",
    "info = {}\n",
    "\n",
    "#step 3\n",
    "while True:\n",
    "    #step 4\n",
    "    name = input(\"Enter a name or say 'quit' to quit: \")\n",
    "    if name.lower().strip() != 'quit':\n",
    "        address = input(\"Enter an address or say 'quit' to quit. \")\n",
    "    \n",
    "    #step 5\n",
    "    if name.lower().strip() == 'quit' or address.lower().strip() == 'quit':\n",
    "        #step 5a\n",
    "        for key, value in info.items():\n",
    "            print (f\"The address for {key}, is {value}. Go visit them! But call first cause otherwise that's rude.\")\n",
    "        break\n",
    "            \n",
    "    info[name] = address"
   ]
  },
  {
   "cell_type": "code",
   "execution_count": null,
   "metadata": {},
   "outputs": [],
   "source": [
    "info = {}\n",
    "\n",
    "#step 3\n",
    "while True:\n",
    "    #step 4\n",
    "    name = input(\"Enter a name or say 'quit' to quit: \")\n",
    "    if name.lower().strip() != 'quit':\n",
    "        address = input(\"Enter an address or say 'quit' to quit\")\n",
    "        \n",
    "    # step 5\n",
    "    if name.lower().strip() == 'quit' or address.lower().strip() == 'quit':\n",
    "        #step 5a\n",
    "        for key, value in info.items():\n",
    "            print(f\"The address for {key}, is {value}. Go visit them! But call first cause otherwise thats rude.\")\n",
    "        break\n",
    "    \n",
    "    info[name] = address"
   ]
  },
  {
   "cell_type": "markdown",
   "metadata": {},
   "source": [
    "## Set <br>\n",
    "<p>A Set is an unordered collection data type that is iterable (loop), mutable, and has no duplicate elements.<br>Major advantage is that it is highly optimized in checking if something is in the set, as opposed to checking if something is in a list.</p>"
   ]
  },
  {
   "cell_type": "markdown",
   "metadata": {},
   "source": [
    "##### Declaring"
   ]
  },
  {
   "cell_type": "code",
   "execution_count": null,
   "metadata": {
    "scrolled": false
   },
   "outputs": [],
   "source": [
    "# set() or {}\n",
    "# {no order {3, 2, 1} might output as {2, 3, 1}}\n",
    "\n",
    "nums = {4, 1, 8, 4}\n",
    "\n",
    "print(nums)\n",
    "\n",
    "# one way to remove all duplicates from a list\n",
    "my_list = [1, 1, 1, 1, 2, 2, 2, 2, 3, 3, 3, 3, 4, 4, 9, 9, 9, 9]\n",
    "my_set = set(my_list)\n",
    "print(my_set)\n",
    "\n",
    "my_list = list(my_set)\n",
    "print(my_list)\n",
    "\n",
    "#we can't index because sets are unordered\n",
    "# my_set[0]\n",
    "\n",
    "print(len(my_set))\n"
   ]
  },
  {
   "cell_type": "code",
   "execution_count": null,
   "metadata": {
    "scrolled": true
   },
   "outputs": [],
   "source": []
  },
  {
   "cell_type": "code",
   "execution_count": null,
   "metadata": {},
   "outputs": [],
   "source": []
  },
  {
   "cell_type": "markdown",
   "metadata": {},
   "source": [
    "##### .add()"
   ]
  },
  {
   "cell_type": "code",
   "execution_count": null,
   "metadata": {},
   "outputs": [],
   "source": [
    "#set.add()\n",
    "\n",
    "my_set = {2, 5, 4, 7, 9}\n",
    "print(my_set)\n",
    "my_set.add(22)\n",
    "print(my_set)\n",
    "\n",
    "my_set.add('Hello')\n",
    "print(my_set)\n",
    "\n",
    "my_set.add(2)\n",
    "print(my_set)"
   ]
  },
  {
   "cell_type": "markdown",
   "metadata": {},
   "source": [
    "##### .remove()"
   ]
  },
  {
   "cell_type": "code",
   "execution_count": null,
   "metadata": {},
   "outputs": [],
   "source": [
    "#my_set.remove(value)\n",
    "my_set = {2, 5, 4, 7, 9}\n",
    "my_set.remove(2)\n",
    "\n",
    "print(my_set)\n",
    "\n",
    "my_set.remove(9)\n",
    "print(my_set)"
   ]
  },
  {
   "cell_type": "markdown",
   "metadata": {},
   "source": [
    "##### .union() "
   ]
  },
  {
   "cell_type": "code",
   "execution_count": null,
   "metadata": {},
   "outputs": [],
   "source": [
    "#union will combine two sets\n",
    "# can also use | in place of .union()\n",
    "#my_set.union(my_set2)\n",
    "\n",
    "s1 = {1, 2, 3, 4}\n",
    "s2 = {3, 4, 5, 6}\n",
    "\n",
    "s3 = s1.union(s2)\n",
    "print(s3)\n",
    "\n",
    "#or\n",
    "\n",
    "s4 = s2 | s1\n",
    "print(s4)"
   ]
  },
  {
   "cell_type": "markdown",
   "metadata": {},
   "source": [
    "##### .intersection()"
   ]
  },
  {
   "cell_type": "code",
   "execution_count": null,
   "metadata": {},
   "outputs": [],
   "source": [
    "# return an intersection of two sets, can use &\n",
    "# only return the similar elements of both sets\n",
    "\n",
    "s1 = {1, 2, 3, 4}\n",
    "s2 = {3, 4, 5, 6}\n",
    "\n",
    "s3 = s2.intersection(s1)\n",
    "\n",
    "print(s3)\n",
    "\n",
    "#or\n",
    "\n",
    "s4 = s2 & s1\n",
    "print(s4)"
   ]
  },
  {
   "cell_type": "markdown",
   "metadata": {},
   "source": [
    "##### .difference()"
   ]
  },
  {
   "cell_type": "code",
   "execution_count": null,
   "metadata": {},
   "outputs": [],
   "source": [
    "# returns a set containing th elements of the invoking set that are not in the second set\n",
    "# can also use '-'\n",
    "# order matters\n",
    "\n",
    "s1 = {1, 2, 3, 4}\n",
    "s2 = {3, 4, 5, 6}\n",
    "\n",
    "s7 = s1 - s2\n",
    "print(s7)\n",
    "\n",
    "#or\n",
    "\n",
    "s8 = s2.difference(s1)\n",
    "print(s8)\n",
    "\n"
   ]
  },
  {
   "cell_type": "markdown",
   "metadata": {},
   "source": [
    "##### .clear()"
   ]
  },
  {
   "cell_type": "code",
   "execution_count": null,
   "metadata": {},
   "outputs": [],
   "source": [
    "#empties the whole set\n",
    "#set.clear()\n",
    "\n",
    "another_set = {3, 4, 5, 12, 11, 14}\n",
    "print(another_set)\n",
    "\n",
    "another_set.clear()\n",
    "\n",
    "print(another_set)"
   ]
  },
  {
   "cell_type": "code",
   "execution_count": null,
   "metadata": {},
   "outputs": [],
   "source": []
  },
  {
   "cell_type": "markdown",
   "metadata": {},
   "source": [
    "##### Frozenset <br>\n",
    "<p>Frozen sets are immutable objects that only support methods and operators that produce a result without affecting the frozen set or sets to which they are applied.</p><br><b>Unique & Immutable</b>"
   ]
  },
  {
   "cell_type": "code",
   "execution_count": 15,
   "metadata": {},
   "outputs": [
    {
     "name": "stdout",
     "output_type": "stream",
     "text": [
      "{2, 3, 4, 5, 'my dog is neat', 7, 'hello'}\n",
      "frozenset({2, 3, 4, 5, 'my dog is neat', 7, 'hello'})\n",
      "{2, 3, 4, 5, 'my dog is neat', 7, 'hello'}\n",
      "set()\n"
     ]
    }
   ],
   "source": [
    "#frozenset()\n",
    "my_set = {2, 3, 4, 'hello', 7, 'my dog is neat', 5}\n",
    "print(my_set)\n",
    "\n",
    "frozen_set = frozenset(my_set)\n",
    "print(frozen_set)\n",
    "\n",
    "# frozen_set.add(22)\n",
    "# frozen_set.remove('hello')\n",
    "\n",
    "my_new_set = set(frozen_set)\n",
    "print(my_new_set)\n",
    "my_new_set.clear()\n",
    "print(my_new_set)"
   ]
  },
  {
   "cell_type": "markdown",
   "metadata": {},
   "source": [
    "# Exercises"
   ]
  },
  {
   "cell_type": "markdown",
   "metadata": {},
   "source": [
    "### 1) Build a Shopping Cart <br>\n",
    "<p><b>You can use either lists or dictionaries. The program should have the following capabilities:</b><br><br>\n",
    "1) Takes in input <br>\n",
    "2) Stores user input into a dictionary or list <br>\n",
    "3) The User can add or delete items <br>\n",
    "4) The User can see current shopping list <br>\n",
    "5) The program Loops until user 'quits' <br>\n",
    "6) Upon quiting the program, print out all items in the user's list <br>\n",
    "</p>"
   ]
  },
  {
   "cell_type": "code",
   "execution_count": 56,
   "metadata": {},
   "outputs": [
    {
     "name": "stdout",
     "output_type": "stream",
     "text": [
      "To Show your grocery list, enter 'S'\n",
      "To Add to your list, enter 'A'\n",
      "To Delete an item from your list, enter 'D'\n",
      "If you're finished, enter 'Q' to Quit a\n",
      "Please enter a new item to add to your list, or enter 'Q' to quit. milk\n",
      "To Show your grocery list, enter 'S'\n",
      "To Add to your list, enter 'A'\n",
      "To Delete an item from your list, enter 'D'\n",
      "If you're finished, enter 'Q' to Quit a\n",
      "Please enter a new item to add to your list, or enter 'Q' to quit. bread\n",
      "To Show your grocery list, enter 'S'\n",
      "To Add to your list, enter 'A'\n",
      "To Delete an item from your list, enter 'D'\n",
      "If you're finished, enter 'Q' to Quit a\n",
      "Please enter a new item to add to your list, or enter 'Q' to quit. butter\n",
      "To Show your grocery list, enter 'S'\n",
      "To Add to your list, enter 'A'\n",
      "To Delete an item from your list, enter 'D'\n",
      "If you're finished, enter 'Q' to Quit s\n",
      "{'Grocery List': ['milk', 'bread', 'butter']}\n",
      "To Show your grocery list, enter 'S'\n",
      "To Add to your list, enter 'A'\n",
      "To Delete an item from your list, enter 'D'\n",
      "If you're finished, enter 'Q' to Quit d\n",
      "Please type the item you'd like to delete , or enter 'Q' to quit. \n",
      "Items be only be deleted from the top of the list.\n",
      "Invalid entry. Please try again.\n",
      "To Show your grocery list, enter 'S'\n",
      "To Add to your list, enter 'A'\n",
      "To Delete an item from your list, enter 'D'\n",
      "If you're finished, enter 'Q' to Quit s\n",
      "{'Grocery List': ['milk', 'bread', 'butter']}\n",
      "To Show your grocery list, enter 'S'\n",
      "To Add to your list, enter 'A'\n",
      "To Delete an item from your list, enter 'D'\n",
      "If you're finished, enter 'Q' to Quit d\n",
      "Please type the item you'd like to delete , or enter 'Q' to quit. \n",
      "Items be only be deleted from the top of the list.milk\n",
      "To Show your grocery list, enter 'S'\n",
      "To Add to your list, enter 'A'\n",
      "To Delete an item from your list, enter 'D'\n",
      "If you're finished, enter 'Q' to Quit s\n",
      "{'Grocery List': ['bread', 'butter']}\n",
      "To Show your grocery list, enter 'S'\n",
      "To Add to your list, enter 'A'\n",
      "To Delete an item from your list, enter 'D'\n",
      "If you're finished, enter 'Q' to Quit q\n",
      "{'Grocery List': ['bread', 'butter']}\n"
     ]
    }
   ],
   "source": [
    "# Ask the user four bits of input: Do you want to : Show/Add/Delete or Quit?\n",
    "# take user input as Show, Add, Delete or Quit (S, A, D or Q) and use if, and elif conditions\n",
    "# add list items to dictionary with key \"Grocery List\" for Add\n",
    "# print list from dictionary by looping through values for Show\n",
    "# delete values by\n",
    "############################### RYAN'S CODE ##########################################################\n",
    "# store = {}\n",
    "\n",
    "# def add_item():\n",
    "#     item = input(\"What would you like to add? \")\n",
    "#     quantity = int(input(f\"how many {item} would you like \"))\n",
    "    \n",
    "#     if item not in store:\n",
    "#         store[item] = quantity\n",
    "\n",
    "# def remove_item():\n",
    "#     item = input(\"what would you like to remove \")\n",
    "#     del store[item]\n",
    "\n",
    "# def show_store():\n",
    "#     print(store)\n",
    "\n",
    "# while True:\n",
    "#     response = input(\"What would you like to do?, add, remove, show \")\n",
    "    \n",
    "#     if response.lower() == 'add':\n",
    "#         add_item()\n",
    "#     elif response.lower() == 'remove':\n",
    "#         remove_item()\n",
    "#     elif response.lower() == \"show\":\n",
    "#         show_store()\n",
    "#     elif response.lower() == \"quite\":\n",
    "#         break\n",
    "#     else:\n",
    "#         print(\"Please enter a valid response\")\n",
    "############################################################################################################\n",
    "\n",
    "\n",
    "# It works - kind of.  Users must delete items from the top of the list.\n",
    "\n",
    "from IPython.display import clear_output\n",
    "\n",
    "def remove_item(key, item):\n",
    "    del grocery_list[key][item]\n",
    "\n",
    "grocery_list = {\"Grocery List\":[]}\n",
    "\n",
    "while True:\n",
    "    user_input = input(\"To Show your grocery list, enter 'S'\\nTo Add to your list, enter 'A'\\nTo Delete an item from your list, enter 'D'\\nIf you're finished, enter 'Q' to Quit \")\n",
    "    if user_input.lower().strip() in ('q', 'quit'):\n",
    "        break\n",
    "    elif user_input.lower().strip() in ('a','add'):\n",
    "        new_item = input(\"Please enter a new item to add to your list, or enter 'Q' to quit. \")\n",
    "        if new_item.lower().strip() in ('q','quit'):\n",
    "            break\n",
    "        else:\n",
    "            grocery_list[\"Grocery List\"].append(new_item)\n",
    "    elif user_input.lower().strip() in ('d', 'delete'):\n",
    "        delete_item = input(\"Please type the item you'd like to delete , or enter 'Q' to quit. \\nItems be only be deleted from the top of the list.\")\n",
    "            \n",
    "        if delete_item in ('q','Q'):\n",
    "            break\n",
    "            \n",
    "        elif delete_item != \"\":\n",
    "            for i in range(len(grocery_list)):\n",
    "                if grocery_list[\"Grocery List\"][i] == delete_item:\n",
    "                    remove_item(\"Grocery List\", i)          \n",
    "        else:\n",
    "            print(\"Invalid entry. Please try again.\")\n",
    "            continue\n",
    "            \n",
    "    elif user_input.lower().strip() in ('s','show'):\n",
    "        print(grocery_list)\n",
    "            \n",
    "    else:\n",
    "        print(\"Invalid entry. Please try again.\")\n",
    "        continue\n",
    "\n",
    "\n",
    "print(grocery_list)\n",
    "            \n"
   ]
  },
  {
   "cell_type": "markdown",
   "metadata": {},
   "source": [
    "### 2) Set Practice"
   ]
  },
  {
   "cell_type": "markdown",
   "metadata": {},
   "source": [
    "<p><b>Remove all duplicates from the following list</b></p>"
   ]
  },
  {
   "cell_type": "code",
   "execution_count": 57,
   "metadata": {},
   "outputs": [
    {
     "name": "stdout",
     "output_type": "stream",
     "text": [
      "[1, 2, 3, 4, 5, 6, 11, 12, 14, 16]\n"
     ]
    }
   ],
   "source": [
    "nums_list = [1, 1, 1, 2, 2, 3, 5, 6, 4, 12, 11, 12, 12, 14, 16, 16, 16, 1, 1, 1, 2, 2]\n",
    "nums_set = set(nums_list) # assign values to set - duplicates are omitted automatically\n",
    "# print(nums_set)\n",
    "nums_list.clear() # clear original list\n",
    "nums_list=list(nums_set) # assign values from the set to the list\n",
    "print(nums_list) # display new list values"
   ]
  },
  {
   "cell_type": "markdown",
   "metadata": {},
   "source": [
    "<p><b>Out put the intersection of the following the following sets.</b></p>"
   ]
  },
  {
   "cell_type": "code",
   "execution_count": 58,
   "metadata": {},
   "outputs": [
    {
     "name": "stdout",
     "output_type": "stream",
     "text": [
      "{26, 27}\n"
     ]
    }
   ],
   "source": [
    "set1 = {20, 24, 26, 27}\n",
    "set2 = {26, 35, 63, 27}\n",
    "\n",
    "print(set1 & set2) # intersection of sets"
   ]
  },
  {
   "cell_type": "markdown",
   "metadata": {},
   "source": [
    "<p><b>Output the difference between the following sets</b></p>"
   ]
  },
  {
   "cell_type": "code",
   "execution_count": 59,
   "metadata": {},
   "outputs": [
    {
     "name": "stdout",
     "output_type": "stream",
     "text": [
      "{89, 100}\n",
      "{54, 103}\n"
     ]
    }
   ],
   "source": [
    "set3 = {100, 65, 89, 200}\n",
    "set4 = {65, 103, 54, 200}\n",
    "\n",
    "#output of set3 minus set4\n",
    "print(set3-set4)\n",
    "\n",
    "#output of set4 minus set3\n",
    "print(set4-set3)"
   ]
  }
 ],
 "metadata": {
  "kernelspec": {
   "display_name": "Python 3 (ipykernel)",
   "language": "python",
   "name": "python3"
  },
  "language_info": {
   "codemirror_mode": {
    "name": "ipython",
    "version": 3
   },
   "file_extension": ".py",
   "mimetype": "text/x-python",
   "name": "python",
   "nbconvert_exporter": "python",
   "pygments_lexer": "ipython3",
   "version": "3.10.10"
  }
 },
 "nbformat": 4,
 "nbformat_minor": 2
}
